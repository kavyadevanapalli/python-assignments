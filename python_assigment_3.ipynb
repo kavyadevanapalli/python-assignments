{
 "cells": [
  {
   "cell_type": "markdown",
   "metadata": {},
   "source": [
    "1.1 Write a Python Program to implement your own myreduce() function which works exactly  like Python's built-in function reduce() \n"
   ]
  },
  {
   "cell_type": "code",
   "execution_count": 1,
   "metadata": {},
   "outputs": [
    {
     "name": "stdout",
     "output_type": "stream",
     "text": [
      "my list is [1, 2, 3, 4]\n",
      "sum of elements in list : 10\n"
     ]
    }
   ],
   "source": [
    "# reduce function which calculate the sum of elements in list\n",
    "def myreduce(function, list):\n",
    "    result = 0\n",
    "    for i in list:\n",
    "        result = function(result,i)\n",
    "    return result\n",
    "def myfunction(x,y):\n",
    "    return x+y\n",
    "mylist = [1,2,3,4]\n",
    "print(\"my list is {}\".format(mylist))\n",
    "print(\"sum of elements in list : {}\".format(myreduce(myfunction,mylist)))\n"
   ]
  },
  {
   "cell_type": "markdown",
   "metadata": {},
   "source": [
    "1.2 Write a Python program to implement your own myfilter() function which works exactly\n",
    "like Python's built-in function filter()"
   ]
  },
  {
   "cell_type": "code",
   "execution_count": 5,
   "metadata": {},
   "outputs": [
    {
     "name": "stdout",
     "output_type": "stream",
     "text": [
      "my list is [2, 3, 4, 5, 6]\n",
      "the numbers which are divisable by 2 from mylist is [2, 4, 6]\n"
     ]
    }
   ],
   "source": [
    "# myfilter function which filters the numbers which are divisible by 2 from the given list\n",
    "def myfilter(function,list):\n",
    "    result = []\n",
    "    for i in list:\n",
    "        if function(i) == True:\n",
    "            result.append(i)\n",
    "    return result\n",
    "def function(x):\n",
    "    if x % 2 == 0:\n",
    "        return True\n",
    "l = [2,3,4,5,6]\n",
    "print(\"my list is {}\".format(l))\n",
    "print(\"the numbers which are divisable by 2 from mylist is {}\".format(myfilter(function,l)))"
   ]
  },
  {
   "cell_type": "markdown",
   "metadata": {},
   "source": [
    "2. Implement List comprehensions to produce the following lists.\n",
    "\n",
    "Write List comprehensions to produce the following Lists\n",
    "\n",
    "['A', 'C', 'A', 'D', 'G', 'I', ’L’, ‘ D’]\n",
    "\n",
    "['x', 'xx', 'xxx', 'xxxx', 'y', 'yy', 'yyy', 'yyyy', 'z', 'zz', 'zzz', 'zzzz']\n",
    "\n",
    "['x', 'y', 'z', 'xx', 'yy', 'zz', 'xxx', 'yyy', 'zzz', 'xxxx', 'yyyy', 'zzzz']\n",
    "\n",
    "[[2], [3], [4], [3], [4], [5], [4], [5], [6]] \n",
    "\n",
    "[[2, 3, 4, 5], [3, 4, 5, 6],[4, 5, 6, 7], [5, 6, 7, 8]]\n",
    "\n",
    "[(1, 1), (2, 1), (3, 1), (1, 2), (2, 2), (3, 2), (1, 3), (2, 3), (3, 3)]"
   ]
  },
  {
   "cell_type": "code",
   "execution_count": 3,
   "metadata": {},
   "outputs": [
    {
     "name": "stdout",
     "output_type": "stream",
     "text": [
      "['A', 'C', 'A', 'D', 'G', 'I', 'L', 'D']\n",
      "['x', 'xx', 'xxx', 'xxxx', 'y', 'yy', 'yyy', 'yyyy', 'z', 'zz', 'zzz', 'zzzz']\n",
      "['x', 'y', 'z', 'xx', 'yy', 'zz', 'xxx', 'yyy', 'zzz', 'xxxx', 'yyyy', 'zzzz']\n",
      "[[2, 3, 4, 5, 6], [3, 4, 5, 6, 7], [4, 5, 6, 7, 8], [5, 6, 7, 8, 9]]\n",
      "[(1, 1), (2, 1), (3, 1), (1, 2), (2, 2), (3, 2), (1, 3), (2, 3), (3, 3)]\n"
     ]
    }
   ],
   "source": [
    "x = \"ACADGILD\"\n",
    "ans1 = [i for i in x]\n",
    "print(ans1)\n",
    "l = [\"x\",\"y\",\"z\"]\n",
    "ans2 = [x*n for x in l for n in range(1,5)]\n",
    "print(ans2)\n",
    "ans3 = [x*n for n in range(1,5) for x in l]\n",
    "print(ans3)\n",
    "ans4 = [[x for x in range(i,i+5)] for i in range(2,6)]\n",
    "print(ans4)\n",
    "ans5 = [(i,j) for j in range(1,4) for i in range(1,4)]\n",
    "print(ans5)"
   ]
  },
  {
   "cell_type": "code",
   "execution_count": null,
   "metadata": {},
   "outputs": [],
   "source": []
  }
 ],
 "metadata": {
  "kernelspec": {
   "display_name": "Python 3",
   "language": "python",
   "name": "python3"
  },
  "language_info": {
   "codemirror_mode": {
    "name": "ipython",
    "version": 3
   },
   "file_extension": ".py",
   "mimetype": "text/x-python",
   "name": "python",
   "nbconvert_exporter": "python",
   "pygments_lexer": "ipython3",
   "version": "3.8.3"
  }
 },
 "nbformat": 4,
 "nbformat_minor": 4
}
